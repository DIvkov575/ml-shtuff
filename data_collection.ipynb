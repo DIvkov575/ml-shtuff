{
 "cells": [
  {
   "cell_type": "code",
   "execution_count": 13,
   "id": "e3bcef6c",
   "metadata": {},
   "outputs": [],
   "source": [
    "import cv2\n",
    "import os\n",
    "import time\n",
    "import uuid"
   ]
  },
  {
   "cell_type": "code",
   "execution_count": 14,
   "id": "be51a88f",
   "metadata": {},
   "outputs": [],
   "source": [
    "IMAGES_PATH = \"./assets\"\n",
    "number_imgs = 1"
   ]
  },
  {
   "cell_type": "code",
   "execution_count": 16,
   "id": "80fa2704",
   "metadata": {},
   "outputs": [],
   "source": [
    "# !mkdir {'~/programming/'}\n",
    "cap = cv2.VideoCapture(0)\n",
    "time.sleep(2)\n",
    "for imgnum in range(number_imgs):\n",
    "    ret, frame = cap.read()\n",
    "    # image_name = os.path.join\n",
    "    # image_name = os.path.join(IMAGES_PATH, uuid.uuid1())\n",
    "    image_name = os.path.join(IMAGES_PATH, \"1.jpg\")\n",
    "    cv2.imwrite(image_name, frame)\n",
    "    cv2.imshow('frame', frame)\n",
    "    \n",
    "    if cv2.waitKey(1) & 0xFF == ord('q'):\n",
    "        break\n",
    "cap.release()\n"
   ]
  }
 ],
 "metadata": {
  "kernelspec": {
   "display_name": "Python 3 (ipykernel)",
   "language": "python",
   "name": "python3"
  },
  "language_info": {
   "codemirror_mode": {
    "name": "ipython",
    "version": 3
   },
   "file_extension": ".py",
   "mimetype": "text/x-python",
   "name": "python",
   "nbconvert_exporter": "python",
   "pygments_lexer": "ipython3",
   "version": "3.9.14"
  }
 },
 "nbformat": 4,
 "nbformat_minor": 5
}
